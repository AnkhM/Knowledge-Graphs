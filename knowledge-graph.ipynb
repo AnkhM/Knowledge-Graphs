{
 "cells": [
  {
   "cell_type": "code",
   "execution_count": 3,
   "id": "02ece6c7",
   "metadata": {},
   "outputs": [
    {
     "name": "stdout",
     "output_type": "stream",
     "text": [
      "Requirement already satisfied: langchain in c:\\users\\vaish\\onedrive\\documents\\github\\knowledge-graphs\\.venv\\lib\\site-packages (0.3.27)\n",
      "Collecting langchain_experimental\n",
      "  Downloading langchain_experimental-0.3.4-py3-none-any.whl.metadata (1.7 kB)\n",
      "Requirement already satisfied: langchain-openai in c:\\users\\vaish\\onedrive\\documents\\github\\knowledge-graphs\\.venv\\lib\\site-packages (0.3.30)\n",
      "Requirement already satisfied: python-dotenv in c:\\users\\vaish\\onedrive\\documents\\github\\knowledge-graphs\\.venv\\lib\\site-packages (1.1.1)\n",
      "Requirement already satisfied: pyvis in c:\\users\\vaish\\onedrive\\documents\\github\\knowledge-graphs\\.venv\\lib\\site-packages (0.3.2)\n",
      "Requirement already satisfied: langchain-core<1.0.0,>=0.3.72 in c:\\users\\vaish\\onedrive\\documents\\github\\knowledge-graphs\\.venv\\lib\\site-packages (from langchain) (0.3.74)\n",
      "Requirement already satisfied: langchain-text-splitters<1.0.0,>=0.3.9 in c:\\users\\vaish\\onedrive\\documents\\github\\knowledge-graphs\\.venv\\lib\\site-packages (from langchain) (0.3.9)\n",
      "Requirement already satisfied: langsmith>=0.1.17 in c:\\users\\vaish\\onedrive\\documents\\github\\knowledge-graphs\\.venv\\lib\\site-packages (from langchain) (0.4.14)\n",
      "Requirement already satisfied: pydantic<3.0.0,>=2.7.4 in c:\\users\\vaish\\onedrive\\documents\\github\\knowledge-graphs\\.venv\\lib\\site-packages (from langchain) (2.11.7)\n",
      "Requirement already satisfied: SQLAlchemy<3,>=1.4 in c:\\users\\vaish\\onedrive\\documents\\github\\knowledge-graphs\\.venv\\lib\\site-packages (from langchain) (2.0.43)\n",
      "Requirement already satisfied: requests<3,>=2 in c:\\users\\vaish\\onedrive\\documents\\github\\knowledge-graphs\\.venv\\lib\\site-packages (from langchain) (2.32.5)\n",
      "Requirement already satisfied: PyYAML>=5.3 in c:\\users\\vaish\\onedrive\\documents\\github\\knowledge-graphs\\.venv\\lib\\site-packages (from langchain) (6.0.2)\n",
      "Requirement already satisfied: tenacity!=8.4.0,<10.0.0,>=8.1.0 in c:\\users\\vaish\\onedrive\\documents\\github\\knowledge-graphs\\.venv\\lib\\site-packages (from langchain-core<1.0.0,>=0.3.72->langchain) (9.1.2)\n",
      "Requirement already satisfied: jsonpatch<2.0,>=1.33 in c:\\users\\vaish\\onedrive\\documents\\github\\knowledge-graphs\\.venv\\lib\\site-packages (from langchain-core<1.0.0,>=0.3.72->langchain) (1.33)\n",
      "Requirement already satisfied: typing-extensions>=4.7 in c:\\users\\vaish\\onedrive\\documents\\github\\knowledge-graphs\\.venv\\lib\\site-packages (from langchain-core<1.0.0,>=0.3.72->langchain) (4.14.1)\n",
      "Requirement already satisfied: packaging>=23.2 in c:\\users\\vaish\\onedrive\\documents\\github\\knowledge-graphs\\.venv\\lib\\site-packages (from langchain-core<1.0.0,>=0.3.72->langchain) (25.0)\n",
      "Requirement already satisfied: jsonpointer>=1.9 in c:\\users\\vaish\\onedrive\\documents\\github\\knowledge-graphs\\.venv\\lib\\site-packages (from jsonpatch<2.0,>=1.33->langchain-core<1.0.0,>=0.3.72->langchain) (3.0.0)\n",
      "Requirement already satisfied: annotated-types>=0.6.0 in c:\\users\\vaish\\onedrive\\documents\\github\\knowledge-graphs\\.venv\\lib\\site-packages (from pydantic<3.0.0,>=2.7.4->langchain) (0.7.0)\n",
      "Requirement already satisfied: pydantic-core==2.33.2 in c:\\users\\vaish\\onedrive\\documents\\github\\knowledge-graphs\\.venv\\lib\\site-packages (from pydantic<3.0.0,>=2.7.4->langchain) (2.33.2)\n",
      "Requirement already satisfied: typing-inspection>=0.4.0 in c:\\users\\vaish\\onedrive\\documents\\github\\knowledge-graphs\\.venv\\lib\\site-packages (from pydantic<3.0.0,>=2.7.4->langchain) (0.4.1)\n",
      "Requirement already satisfied: charset_normalizer<4,>=2 in c:\\users\\vaish\\onedrive\\documents\\github\\knowledge-graphs\\.venv\\lib\\site-packages (from requests<3,>=2->langchain) (3.4.3)\n",
      "Requirement already satisfied: idna<4,>=2.5 in c:\\users\\vaish\\onedrive\\documents\\github\\knowledge-graphs\\.venv\\lib\\site-packages (from requests<3,>=2->langchain) (3.10)\n",
      "Requirement already satisfied: urllib3<3,>=1.21.1 in c:\\users\\vaish\\onedrive\\documents\\github\\knowledge-graphs\\.venv\\lib\\site-packages (from requests<3,>=2->langchain) (2.5.0)\n",
      "Requirement already satisfied: certifi>=2017.4.17 in c:\\users\\vaish\\onedrive\\documents\\github\\knowledge-graphs\\.venv\\lib\\site-packages (from requests<3,>=2->langchain) (2025.8.3)\n",
      "Requirement already satisfied: greenlet>=1 in c:\\users\\vaish\\onedrive\\documents\\github\\knowledge-graphs\\.venv\\lib\\site-packages (from SQLAlchemy<3,>=1.4->langchain) (3.2.4)\n",
      "Collecting langchain-community<0.4.0,>=0.3.0 (from langchain_experimental)\n",
      "  Downloading langchain_community-0.3.27-py3-none-any.whl.metadata (2.9 kB)\n",
      "Collecting aiohttp<4.0.0,>=3.8.3 (from langchain-community<0.4.0,>=0.3.0->langchain_experimental)\n",
      "  Downloading aiohttp-3.12.15-cp313-cp313-win_amd64.whl.metadata (7.9 kB)\n",
      "Collecting dataclasses-json<0.7,>=0.5.7 (from langchain-community<0.4.0,>=0.3.0->langchain_experimental)\n",
      "  Downloading dataclasses_json-0.6.7-py3-none-any.whl.metadata (25 kB)\n",
      "Collecting pydantic-settings<3.0.0,>=2.4.0 (from langchain-community<0.4.0,>=0.3.0->langchain_experimental)\n",
      "  Using cached pydantic_settings-2.10.1-py3-none-any.whl.metadata (3.4 kB)\n",
      "Collecting httpx-sse<1.0.0,>=0.4.0 (from langchain-community<0.4.0,>=0.3.0->langchain_experimental)\n",
      "  Using cached httpx_sse-0.4.1-py3-none-any.whl.metadata (9.4 kB)\n",
      "Collecting numpy>=2.1.0 (from langchain-community<0.4.0,>=0.3.0->langchain_experimental)\n",
      "  Downloading numpy-2.3.2-cp313-cp313-win_amd64.whl.metadata (60 kB)\n",
      "Collecting aiohappyeyeballs>=2.5.0 (from aiohttp<4.0.0,>=3.8.3->langchain-community<0.4.0,>=0.3.0->langchain_experimental)\n",
      "  Downloading aiohappyeyeballs-2.6.1-py3-none-any.whl.metadata (5.9 kB)\n",
      "Collecting aiosignal>=1.4.0 (from aiohttp<4.0.0,>=3.8.3->langchain-community<0.4.0,>=0.3.0->langchain_experimental)\n",
      "  Downloading aiosignal-1.4.0-py3-none-any.whl.metadata (3.7 kB)\n",
      "Collecting attrs>=17.3.0 (from aiohttp<4.0.0,>=3.8.3->langchain-community<0.4.0,>=0.3.0->langchain_experimental)\n",
      "  Using cached attrs-25.3.0-py3-none-any.whl.metadata (10 kB)\n",
      "Collecting frozenlist>=1.1.1 (from aiohttp<4.0.0,>=3.8.3->langchain-community<0.4.0,>=0.3.0->langchain_experimental)\n",
      "  Downloading frozenlist-1.7.0-cp313-cp313-win_amd64.whl.metadata (19 kB)\n",
      "Collecting multidict<7.0,>=4.5 (from aiohttp<4.0.0,>=3.8.3->langchain-community<0.4.0,>=0.3.0->langchain_experimental)\n",
      "  Downloading multidict-6.6.4-cp313-cp313-win_amd64.whl.metadata (5.4 kB)\n",
      "Collecting propcache>=0.2.0 (from aiohttp<4.0.0,>=3.8.3->langchain-community<0.4.0,>=0.3.0->langchain_experimental)\n",
      "  Downloading propcache-0.3.2-cp313-cp313-win_amd64.whl.metadata (12 kB)\n",
      "Collecting yarl<2.0,>=1.17.0 (from aiohttp<4.0.0,>=3.8.3->langchain-community<0.4.0,>=0.3.0->langchain_experimental)\n",
      "  Downloading yarl-1.20.1-cp313-cp313-win_amd64.whl.metadata (76 kB)\n",
      "Collecting marshmallow<4.0.0,>=3.18.0 (from dataclasses-json<0.7,>=0.5.7->langchain-community<0.4.0,>=0.3.0->langchain_experimental)\n",
      "  Downloading marshmallow-3.26.1-py3-none-any.whl.metadata (7.3 kB)\n",
      "Collecting typing-inspect<1,>=0.4.0 (from dataclasses-json<0.7,>=0.5.7->langchain-community<0.4.0,>=0.3.0->langchain_experimental)\n",
      "  Downloading typing_inspect-0.9.0-py3-none-any.whl.metadata (1.5 kB)\n",
      "Collecting mypy-extensions>=0.3.0 (from typing-inspect<1,>=0.4.0->dataclasses-json<0.7,>=0.5.7->langchain-community<0.4.0,>=0.3.0->langchain_experimental)\n",
      "  Downloading mypy_extensions-1.1.0-py3-none-any.whl.metadata (1.1 kB)\n",
      "Requirement already satisfied: openai<2.0.0,>=1.99.9 in c:\\users\\vaish\\onedrive\\documents\\github\\knowledge-graphs\\.venv\\lib\\site-packages (from langchain-openai) (1.100.2)\n",
      "Requirement already satisfied: tiktoken<1,>=0.7 in c:\\users\\vaish\\onedrive\\documents\\github\\knowledge-graphs\\.venv\\lib\\site-packages (from langchain-openai) (0.11.0)\n",
      "Requirement already satisfied: anyio<5,>=3.5.0 in c:\\users\\vaish\\onedrive\\documents\\github\\knowledge-graphs\\.venv\\lib\\site-packages (from openai<2.0.0,>=1.99.9->langchain-openai) (4.10.0)\n",
      "Requirement already satisfied: distro<2,>=1.7.0 in c:\\users\\vaish\\onedrive\\documents\\github\\knowledge-graphs\\.venv\\lib\\site-packages (from openai<2.0.0,>=1.99.9->langchain-openai) (1.9.0)\n",
      "Requirement already satisfied: httpx<1,>=0.23.0 in c:\\users\\vaish\\onedrive\\documents\\github\\knowledge-graphs\\.venv\\lib\\site-packages (from openai<2.0.0,>=1.99.9->langchain-openai) (0.28.1)\n",
      "Requirement already satisfied: jiter<1,>=0.4.0 in c:\\users\\vaish\\onedrive\\documents\\github\\knowledge-graphs\\.venv\\lib\\site-packages (from openai<2.0.0,>=1.99.9->langchain-openai) (0.10.0)\n",
      "Requirement already satisfied: sniffio in c:\\users\\vaish\\onedrive\\documents\\github\\knowledge-graphs\\.venv\\lib\\site-packages (from openai<2.0.0,>=1.99.9->langchain-openai) (1.3.1)\n",
      "Requirement already satisfied: tqdm>4 in c:\\users\\vaish\\onedrive\\documents\\github\\knowledge-graphs\\.venv\\lib\\site-packages (from openai<2.0.0,>=1.99.9->langchain-openai) (4.67.1)\n",
      "Requirement already satisfied: httpcore==1.* in c:\\users\\vaish\\onedrive\\documents\\github\\knowledge-graphs\\.venv\\lib\\site-packages (from httpx<1,>=0.23.0->openai<2.0.0,>=1.99.9->langchain-openai) (1.0.9)\n",
      "Requirement already satisfied: h11>=0.16 in c:\\users\\vaish\\onedrive\\documents\\github\\knowledge-graphs\\.venv\\lib\\site-packages (from httpcore==1.*->httpx<1,>=0.23.0->openai<2.0.0,>=1.99.9->langchain-openai) (0.16.0)\n",
      "Requirement already satisfied: regex>=2022.1.18 in c:\\users\\vaish\\onedrive\\documents\\github\\knowledge-graphs\\.venv\\lib\\site-packages (from tiktoken<1,>=0.7->langchain-openai) (2025.7.34)\n",
      "Requirement already satisfied: ipython>=5.3.0 in c:\\users\\vaish\\onedrive\\documents\\github\\knowledge-graphs\\.venv\\lib\\site-packages (from pyvis) (9.4.0)\n",
      "Requirement already satisfied: jinja2>=2.9.6 in c:\\users\\vaish\\onedrive\\documents\\github\\knowledge-graphs\\.venv\\lib\\site-packages (from pyvis) (3.1.6)\n",
      "Requirement already satisfied: jsonpickle>=1.4.1 in c:\\users\\vaish\\onedrive\\documents\\github\\knowledge-graphs\\.venv\\lib\\site-packages (from pyvis) (4.1.1)\n",
      "Requirement already satisfied: networkx>=1.11 in c:\\users\\vaish\\onedrive\\documents\\github\\knowledge-graphs\\.venv\\lib\\site-packages (from pyvis) (3.5)\n",
      "Requirement already satisfied: colorama in c:\\users\\vaish\\onedrive\\documents\\github\\knowledge-graphs\\.venv\\lib\\site-packages (from ipython>=5.3.0->pyvis) (0.4.6)\n",
      "Requirement already satisfied: decorator in c:\\users\\vaish\\onedrive\\documents\\github\\knowledge-graphs\\.venv\\lib\\site-packages (from ipython>=5.3.0->pyvis) (5.2.1)\n",
      "Requirement already satisfied: ipython-pygments-lexers in c:\\users\\vaish\\onedrive\\documents\\github\\knowledge-graphs\\.venv\\lib\\site-packages (from ipython>=5.3.0->pyvis) (1.1.1)\n",
      "Requirement already satisfied: jedi>=0.16 in c:\\users\\vaish\\onedrive\\documents\\github\\knowledge-graphs\\.venv\\lib\\site-packages (from ipython>=5.3.0->pyvis) (0.19.2)\n",
      "Requirement already satisfied: matplotlib-inline in c:\\users\\vaish\\onedrive\\documents\\github\\knowledge-graphs\\.venv\\lib\\site-packages (from ipython>=5.3.0->pyvis) (0.1.7)\n",
      "Requirement already satisfied: prompt_toolkit<3.1.0,>=3.0.41 in c:\\users\\vaish\\onedrive\\documents\\github\\knowledge-graphs\\.venv\\lib\\site-packages (from ipython>=5.3.0->pyvis) (3.0.51)\n",
      "Requirement already satisfied: pygments>=2.4.0 in c:\\users\\vaish\\onedrive\\documents\\github\\knowledge-graphs\\.venv\\lib\\site-packages (from ipython>=5.3.0->pyvis) (2.19.2)\n",
      "Requirement already satisfied: stack_data in c:\\users\\vaish\\onedrive\\documents\\github\\knowledge-graphs\\.venv\\lib\\site-packages (from ipython>=5.3.0->pyvis) (0.6.3)\n",
      "Requirement already satisfied: traitlets>=5.13.0 in c:\\users\\vaish\\onedrive\\documents\\github\\knowledge-graphs\\.venv\\lib\\site-packages (from ipython>=5.3.0->pyvis) (5.14.3)\n",
      "Requirement already satisfied: wcwidth in c:\\users\\vaish\\onedrive\\documents\\github\\knowledge-graphs\\.venv\\lib\\site-packages (from prompt_toolkit<3.1.0,>=3.0.41->ipython>=5.3.0->pyvis) (0.2.13)\n",
      "Requirement already satisfied: parso<0.9.0,>=0.8.4 in c:\\users\\vaish\\onedrive\\documents\\github\\knowledge-graphs\\.venv\\lib\\site-packages (from jedi>=0.16->ipython>=5.3.0->pyvis) (0.8.4)\n",
      "Requirement already satisfied: MarkupSafe>=2.0 in c:\\users\\vaish\\onedrive\\documents\\github\\knowledge-graphs\\.venv\\lib\\site-packages (from jinja2>=2.9.6->pyvis) (3.0.2)\n",
      "Requirement already satisfied: orjson>=3.9.14 in c:\\users\\vaish\\onedrive\\documents\\github\\knowledge-graphs\\.venv\\lib\\site-packages (from langsmith>=0.1.17->langchain) (3.11.2)\n",
      "Requirement already satisfied: requests-toolbelt>=1.0.0 in c:\\users\\vaish\\onedrive\\documents\\github\\knowledge-graphs\\.venv\\lib\\site-packages (from langsmith>=0.1.17->langchain) (1.0.0)\n",
      "Requirement already satisfied: zstandard>=0.23.0 in c:\\users\\vaish\\onedrive\\documents\\github\\knowledge-graphs\\.venv\\lib\\site-packages (from langsmith>=0.1.17->langchain) (0.24.0)\n",
      "Requirement already satisfied: executing>=1.2.0 in c:\\users\\vaish\\onedrive\\documents\\github\\knowledge-graphs\\.venv\\lib\\site-packages (from stack_data->ipython>=5.3.0->pyvis) (2.2.0)\n",
      "Requirement already satisfied: asttokens>=2.1.0 in c:\\users\\vaish\\onedrive\\documents\\github\\knowledge-graphs\\.venv\\lib\\site-packages (from stack_data->ipython>=5.3.0->pyvis) (3.0.0)\n",
      "Requirement already satisfied: pure-eval in c:\\users\\vaish\\onedrive\\documents\\github\\knowledge-graphs\\.venv\\lib\\site-packages (from stack_data->ipython>=5.3.0->pyvis) (0.2.3)\n",
      "Downloading langchain_experimental-0.3.4-py3-none-any.whl (209 kB)\n",
      "Downloading langchain_community-0.3.27-py3-none-any.whl (2.5 MB)\n",
      "   ---------------------------------------- 0.0/2.5 MB ? eta -:--:--\n",
      "   ----------------------------- ---------- 1.8/2.5 MB 9.3 MB/s eta 0:00:01\n",
      "   ---------------------------------------- 2.5/2.5 MB 8.4 MB/s  0:00:00\n",
      "Downloading aiohttp-3.12.15-cp313-cp313-win_amd64.whl (449 kB)\n",
      "Downloading dataclasses_json-0.6.7-py3-none-any.whl (28 kB)\n",
      "Using cached httpx_sse-0.4.1-py3-none-any.whl (8.1 kB)\n",
      "Downloading marshmallow-3.26.1-py3-none-any.whl (50 kB)\n",
      "Downloading multidict-6.6.4-cp313-cp313-win_amd64.whl (45 kB)\n",
      "Using cached pydantic_settings-2.10.1-py3-none-any.whl (45 kB)\n",
      "Downloading typing_inspect-0.9.0-py3-none-any.whl (8.8 kB)\n",
      "Downloading yarl-1.20.1-cp313-cp313-win_amd64.whl (86 kB)\n",
      "Downloading aiohappyeyeballs-2.6.1-py3-none-any.whl (15 kB)\n",
      "Downloading aiosignal-1.4.0-py3-none-any.whl (7.5 kB)\n",
      "Using cached attrs-25.3.0-py3-none-any.whl (63 kB)\n",
      "Downloading frozenlist-1.7.0-cp313-cp313-win_amd64.whl (43 kB)\n",
      "Downloading mypy_extensions-1.1.0-py3-none-any.whl (5.0 kB)\n",
      "Downloading numpy-2.3.2-cp313-cp313-win_amd64.whl (12.8 MB)\n",
      "   ---------------------------------------- 0.0/12.8 MB ? eta -:--:--\n",
      "   ---- ----------------------------------- 1.6/12.8 MB 8.3 MB/s eta 0:00:02\n",
      "   ----------- ---------------------------- 3.7/12.8 MB 9.3 MB/s eta 0:00:01\n",
      "   ----------------- ---------------------- 5.5/12.8 MB 9.1 MB/s eta 0:00:01\n",
      "   ---------------------- ----------------- 7.3/12.8 MB 9.0 MB/s eta 0:00:01\n",
      "   ---------------------------- ----------- 9.2/12.8 MB 8.9 MB/s eta 0:00:01\n",
      "   ---------------------------------- ----- 11.0/12.8 MB 8.9 MB/s eta 0:00:01\n",
      "   ---------------------------------------- 12.8/12.8 MB 8.8 MB/s  0:00:01\n",
      "Downloading propcache-0.3.2-cp313-cp313-win_amd64.whl (40 kB)\n",
      "Installing collected packages: propcache, numpy, mypy-extensions, multidict, marshmallow, httpx-sse, frozenlist, attrs, aiohappyeyeballs, yarl, typing-inspect, aiosignal, pydantic-settings, dataclasses-json, aiohttp, langchain-community, langchain_experimental\n",
      "\n",
      "   -- -------------------------------------  1/17 [numpy]\n",
      "   -- -------------------------------------  1/17 [numpy]\n",
      "   -- -------------------------------------  1/17 [numpy]\n",
      "   -- -------------------------------------  1/17 [numpy]\n",
      "   -- -------------------------------------  1/17 [numpy]\n",
      "   -- -------------------------------------  1/17 [numpy]\n",
      "   -- -------------------------------------  1/17 [numpy]\n",
      "   -- -------------------------------------  1/17 [numpy]\n",
      "   -- -------------------------------------  1/17 [numpy]\n",
      "   -- -------------------------------------  1/17 [numpy]\n",
      "   -- -------------------------------------  1/17 [numpy]\n",
      "   -- -------------------------------------  1/17 [numpy]\n",
      "   -- -------------------------------------  1/17 [numpy]\n",
      "   -- -------------------------------------  1/17 [numpy]\n",
      "   -- -------------------------------------  1/17 [numpy]\n",
      "   -- -------------------------------------  1/17 [numpy]\n",
      "   -- -------------------------------------  1/17 [numpy]\n",
      "   -- -------------------------------------  1/17 [numpy]\n",
      "   -- -------------------------------------  1/17 [numpy]\n",
      "   -- -------------------------------------  1/17 [numpy]\n",
      "   -- -------------------------------------  1/17 [numpy]\n",
      "   -- -------------------------------------  1/17 [numpy]\n",
      "   -- -------------------------------------  1/17 [numpy]\n",
      "   -- -------------------------------------  1/17 [numpy]\n",
      "   -- -------------------------------------  1/17 [numpy]\n",
      "   -- -------------------------------------  1/17 [numpy]\n",
      "   -- -------------------------------------  1/17 [numpy]\n",
      "   -- -------------------------------------  1/17 [numpy]\n",
      "   --------- ------------------------------  4/17 [marshmallow]\n",
      "   -------------- -------------------------  6/17 [frozenlist]\n",
      "   ------------------ ---------------------  8/17 [aiohappyeyeballs]\n",
      "   ---------------------------- ----------- 12/17 [pydantic-settings]\n",
      "   ------------------------------ --------- 13/17 [dataclasses-json]\n",
      "   -------------------------------- ------- 14/17 [aiohttp]\n",
      "   -------------------------------- ------- 14/17 [aiohttp]\n",
      "   -------------------------------- ------- 14/17 [aiohttp]\n",
      "   ----------------------------------- ---- 15/17 [langchain-community]\n",
      "   ----------------------------------- ---- 15/17 [langchain-community]\n",
      "   ----------------------------------- ---- 15/17 [langchain-community]\n",
      "   ----------------------------------- ---- 15/17 [langchain-community]\n",
      "   ----------------------------------- ---- 15/17 [langchain-community]\n",
      "   ----------------------------------- ---- 15/17 [langchain-community]\n",
      "   ----------------------------------- ---- 15/17 [langchain-community]\n",
      "   ----------------------------------- ---- 15/17 [langchain-community]\n",
      "   ----------------------------------- ---- 15/17 [langchain-community]\n",
      "   ----------------------------------- ---- 15/17 [langchain-community]\n",
      "   ----------------------------------- ---- 15/17 [langchain-community]\n",
      "   ----------------------------------- ---- 15/17 [langchain-community]\n",
      "   ----------------------------------- ---- 15/17 [langchain-community]\n",
      "   ----------------------------------- ---- 15/17 [langchain-community]\n",
      "   ----------------------------------- ---- 15/17 [langchain-community]\n",
      "   ----------------------------------- ---- 15/17 [langchain-community]\n",
      "   ----------------------------------- ---- 15/17 [langchain-community]\n",
      "   ----------------------------------- ---- 15/17 [langchain-community]\n",
      "   ----------------------------------- ---- 15/17 [langchain-community]\n",
      "   ----------------------------------- ---- 15/17 [langchain-community]\n",
      "   ----------------------------------- ---- 15/17 [langchain-community]\n",
      "   ----------------------------------- ---- 15/17 [langchain-community]\n",
      "   ----------------------------------- ---- 15/17 [langchain-community]\n",
      "   ----------------------------------- ---- 15/17 [langchain-community]\n",
      "   ----------------------------------- ---- 15/17 [langchain-community]\n",
      "   ----------------------------------- ---- 15/17 [langchain-community]\n",
      "   ----------------------------------- ---- 15/17 [langchain-community]\n",
      "   ----------------------------------- ---- 15/17 [langchain-community]\n",
      "   ----------------------------------- ---- 15/17 [langchain-community]\n",
      "   ----------------------------------- ---- 15/17 [langchain-community]\n",
      "   ----------------------------------- ---- 15/17 [langchain-community]\n",
      "   ----------------------------------- ---- 15/17 [langchain-community]\n",
      "   ----------------------------------- ---- 15/17 [langchain-community]\n",
      "   ----------------------------------- ---- 15/17 [langchain-community]\n",
      "   ----------------------------------- ---- 15/17 [langchain-community]\n",
      "   ----------------------------------- ---- 15/17 [langchain-community]\n",
      "   ----------------------------------- ---- 15/17 [langchain-community]\n",
      "   ----------------------------------- ---- 15/17 [langchain-community]\n",
      "   ------------------------------------- -- 16/17 [langchain_experimental]\n",
      "   ------------------------------------- -- 16/17 [langchain_experimental]\n",
      "   ------------------------------------- -- 16/17 [langchain_experimental]\n",
      "   ------------------------------------- -- 16/17 [langchain_experimental]\n",
      "   ---------------------------------------- 17/17 [langchain_experimental]\n",
      "\n",
      "Successfully installed aiohappyeyeballs-2.6.1 aiohttp-3.12.15 aiosignal-1.4.0 attrs-25.3.0 dataclasses-json-0.6.7 frozenlist-1.7.0 httpx-sse-0.4.1 langchain-community-0.3.27 langchain_experimental-0.3.4 marshmallow-3.26.1 multidict-6.6.4 mypy-extensions-1.1.0 numpy-2.3.2 propcache-0.3.2 pydantic-settings-2.10.1 typing-inspect-0.9.0 yarl-1.20.1\n",
      "Note: you may need to restart the kernel to use updated packages.\n"
     ]
    }
   ],
   "source": [
    "%pip install --upgrade langchain langchain_experimental langchain-openai python-dotenv pyvis"
   ]
  },
  {
   "cell_type": "code",
   "execution_count": 2,
   "id": "4d466905",
   "metadata": {},
   "outputs": [],
   "source": [
    "from dotenv import load_dotenv\n",
    "import os\n",
    "\n",
    "load_dotenv()\n",
    "api_key = os.getenv(\"OPENAI_API_KEY\")"
   ]
  },
  {
   "cell_type": "code",
   "execution_count": 4,
   "id": "88659fff",
   "metadata": {},
   "outputs": [],
   "source": [
    "from langchain_experimental.graph_transformers import LLMGraphTransformer\n",
    "from langchain_core.documents import Document\n",
    "from langchain_openai import ChatOpenAI\n",
    "\n",
    "llm = ChatOpenAI(temperature=0, model_name=\"gpt-4o\")\n",
    "graph_transformer = LLMGraphTransformer(llm=llm)\n"
   ]
  },
  {
   "cell_type": "code",
   "execution_count": 5,
   "id": "f3350b9c",
   "metadata": {},
   "outputs": [],
   "source": [
    "text = \"\"\"\n",
    "LeBron Raymone James Sr. (/ləˈbrɒn/[1] lə-BRON; born December 30, 1984) is an American professional basketball player for the Los Angeles Lakers of the National Basketball Association (NBA). Nicknamed \"King James\", he is the NBA's all-time leading scorer and has won four NBA championships from 10 NBA Finals appearances, having made eight consecutive appearances between 2011 and 2018.[2] He also won the inaugural NBA Cup in 2023 with the Lakers and has won three Olympic gold medals as a member of the U.S. national team. James is widely considered one of the greatest basketball players of all time.[3][4]\n",
    "\n",
    "In addition to ranking fourth in NBA career assists and sixth in NBA career steals, James holds several individual honors, including four NBA MVP awards, four Finals MVP awards, the Rookie of the Year award, three All-Star Game MVP awards, the inaugural NBA Cup MVP, and the Olympics MVP in the 2024 Summer Olympics. A record 21-time All-Star and 21-time All-NBA selection (including a record 13 First Team selections), he has also made six All-Defensive Teams. The oldest active player in the NBA, he is tied with Vince Carter for the most seasons played and holds the record for the most minutes played in league history.\n",
    "\n",
    "Born and raised in Akron, Ohio, James gained national attention at St. Vincent–St. Mary High School and was heavily touted as a future NBA superstar for his all-around scoring, passing, athleticism and playmaking abilities.[5] A prep-to-pro, James was selected by the Cleveland Cavaliers with the first overall pick of the 2003 NBA draft. He won Rookie of the Year and quickly established himself as one of the league's premier players, leading Cleveland to its first NBA Finals appearance in 2007 and winning the scoring title in 2008. After winning back-to-back MVPs in 2009 and 2010, he left the Cavaliers and joined the Miami Heat as a free agent in 2010, a controversial move announced in the nationally televised special titled The Decision.[6]\n",
    "\"\"\"\n"
   ]
  },
  {
   "cell_type": "code",
   "execution_count": 6,
   "id": "3b467c30",
   "metadata": {},
   "outputs": [],
   "source": [
    "documents = [Document(page_content=text)]\n",
    "graph_documents = await graph_transformer.aconvert_to_graph_documents(documents)"
   ]
  },
  {
   "cell_type": "code",
   "execution_count": null,
   "id": "be05f4ac",
   "metadata": {},
   "outputs": [
    {
     "name": "stdout",
     "output_type": "stream",
     "text": [
      "nodes=[Node(id='Lebron Raymone James Sr.', type='Person', properties={}), Node(id='Los Angeles Lakers', type='Organization', properties={}), Node(id='National Basketball Association', type='Organization', properties={}), Node(id='Nba', type='Organization', properties={}), Node(id='U.S. National Team', type='Organization', properties={}), Node(id='Akron, Ohio', type='Place', properties={}), Node(id='St. Vincent–St. Mary High School', type='Organization', properties={}), Node(id='Cleveland Cavaliers', type='Organization', properties={}), Node(id='Miami Heat', type='Organization', properties={}), Node(id='The Decision', type='Event', properties={})] relationships=[Relationship(source=Node(id='Lebron Raymone James Sr.', type='Person', properties={}), target=Node(id='Los Angeles Lakers', type='Organization', properties={}), type='PLAYS_FOR', properties={}), Relationship(source=Node(id='Lebron Raymone James Sr.', type='Person', properties={}), target=Node(id='Nba', type='Organization', properties={}), type='LEADING_SCORER', properties={}), Relationship(source=Node(id='Lebron Raymone James Sr.', type='Person', properties={}), target=Node(id='Nba', type='Organization', properties={}), type='CHAMPION', properties={}), Relationship(source=Node(id='Lebron Raymone James Sr.', type='Person', properties={}), target=Node(id='Nba', type='Organization', properties={}), type='FINALS_APPEARANCES', properties={}), Relationship(source=Node(id='Lebron Raymone James Sr.', type='Person', properties={}), target=Node(id='Nba', type='Organization', properties={}), type='MVP', properties={}), Relationship(source=Node(id='Lebron Raymone James Sr.', type='Person', properties={}), target=Node(id='U.S. National Team', type='Organization', properties={}), type='OLYMPIC_GOLD_MEDALIST', properties={}), Relationship(source=Node(id='Lebron Raymone James Sr.', type='Person', properties={}), target=Node(id='Akron, Ohio', type='Place', properties={}), type='BIRTHPLACE', properties={}), Relationship(source=Node(id='Lebron Raymone James Sr.', type='Person', properties={}), target=Node(id='St. Vincent–St. Mary High School', type='Organization', properties={}), type='EDUCATED_AT', properties={}), Relationship(source=Node(id='Lebron Raymone James Sr.', type='Person', properties={}), target=Node(id='Cleveland Cavaliers', type='Organization', properties={}), type='DRAFTED_BY', properties={}), Relationship(source=Node(id='Lebron Raymone James Sr.', type='Person', properties={}), target=Node(id='Miami Heat', type='Organization', properties={}), type='JOINED', properties={}), Relationship(source=Node(id='Lebron Raymone James Sr.', type='Person', properties={}), target=Node(id='The Decision', type='Event', properties={}), type='ANNOUNCED', properties={})] source=Document(metadata={}, page_content='\\nLeBron Raymone James Sr. (/ləˈbrɒn/[1] lə-BRON; born December 30, 1984) is an American professional basketball player for the Los Angeles Lakers of the National Basketball Association (NBA). Nicknamed \"King James\", he is the NBA\\'s all-time leading scorer and has won four NBA championships from 10 NBA Finals appearances, having made eight consecutive appearances between 2011 and 2018.[2] He also won the inaugural NBA Cup in 2023 with the Lakers and has won three Olympic gold medals as a member of the U.S. national team. James is widely considered one of the greatest basketball players of all time.[3][4]\\n\\nIn addition to ranking fourth in NBA career assists and sixth in NBA career steals, James holds several individual honors, including four NBA MVP awards, four Finals MVP awards, the Rookie of the Year award, three All-Star Game MVP awards, the inaugural NBA Cup MVP, and the Olympics MVP in the 2024 Summer Olympics. A record 21-time All-Star and 21-time All-NBA selection (including a record 13 First Team selections), he has also made six All-Defensive Teams. The oldest active player in the NBA, he is tied with Vince Carter for the most seasons played and holds the record for the most minutes played in league history.\\n\\nBorn and raised in Akron, Ohio, James gained national attention at St. Vincent–St. Mary High School and was heavily touted as a future NBA superstar for his all-around scoring, passing, athleticism and playmaking abilities.[5] A prep-to-pro, James was selected by the Cleveland Cavaliers with the first overall pick of the 2003 NBA draft. He won Rookie of the Year and quickly established himself as one of the league\\'s premier players, leading Cleveland to its first NBA Finals appearance in 2007 and winning the scoring title in 2008. After winning back-to-back MVPs in 2009 and 2010, he left the Cavaliers and joined the Miami Heat as a free agent in 2010, a controversial move announced in the nationally televised special titled The Decision.[6]\\n')\n",
      "Nodes: [Node(id='Lebron Raymone James Sr.', type='Person', properties={}), Node(id='Los Angeles Lakers', type='Organization', properties={}), Node(id='National Basketball Association', type='Organization', properties={}), Node(id='Nba', type='Organization', properties={}), Node(id='U.S. National Team', type='Organization', properties={}), Node(id='Akron, Ohio', type='Place', properties={}), Node(id='St. Vincent–St. Mary High School', type='Organization', properties={}), Node(id='Cleveland Cavaliers', type='Organization', properties={}), Node(id='Miami Heat', type='Organization', properties={}), Node(id='The Decision', type='Event', properties={})]\n",
      "Relationships: [Relationship(source=Node(id='Lebron Raymone James Sr.', type='Person', properties={}), target=Node(id='Los Angeles Lakers', type='Organization', properties={}), type='PLAYS_FOR', properties={}), Relationship(source=Node(id='Lebron Raymone James Sr.', type='Person', properties={}), target=Node(id='Nba', type='Organization', properties={}), type='LEADING_SCORER', properties={}), Relationship(source=Node(id='Lebron Raymone James Sr.', type='Person', properties={}), target=Node(id='Nba', type='Organization', properties={}), type='CHAMPION', properties={}), Relationship(source=Node(id='Lebron Raymone James Sr.', type='Person', properties={}), target=Node(id='Nba', type='Organization', properties={}), type='FINALS_APPEARANCES', properties={}), Relationship(source=Node(id='Lebron Raymone James Sr.', type='Person', properties={}), target=Node(id='Nba', type='Organization', properties={}), type='MVP', properties={}), Relationship(source=Node(id='Lebron Raymone James Sr.', type='Person', properties={}), target=Node(id='U.S. National Team', type='Organization', properties={}), type='OLYMPIC_GOLD_MEDALIST', properties={}), Relationship(source=Node(id='Lebron Raymone James Sr.', type='Person', properties={}), target=Node(id='Akron, Ohio', type='Place', properties={}), type='BIRTHPLACE', properties={}), Relationship(source=Node(id='Lebron Raymone James Sr.', type='Person', properties={}), target=Node(id='St. Vincent–St. Mary High School', type='Organization', properties={}), type='EDUCATED_AT', properties={}), Relationship(source=Node(id='Lebron Raymone James Sr.', type='Person', properties={}), target=Node(id='Cleveland Cavaliers', type='Organization', properties={}), type='DRAFTED_BY', properties={}), Relationship(source=Node(id='Lebron Raymone James Sr.', type='Person', properties={}), target=Node(id='Miami Heat', type='Organization', properties={}), type='JOINED', properties={}), Relationship(source=Node(id='Lebron Raymone James Sr.', type='Person', properties={}), target=Node(id='The Decision', type='Event', properties={}), type='ANNOUNCED', properties={})]\n"
     ]
    }
   ],
   "source": [
    "print(f\"Nodes: {graph_documents[0].nodes}\")\n",
    "print(f\"Relationships: {graph_documents[0].relationships}\")"
   ]
  },
  {
   "cell_type": "markdown",
   "id": "23bd5ec5",
   "metadata": {},
   "source": [
    "# Visualize Graph"
   ]
  },
  {
   "cell_type": "code",
   "execution_count": 18,
   "id": "013e587c",
   "metadata": {},
   "outputs": [],
   "source": [
    "from pyvis.network import Network\n",
    "\n",
    "def visualize_graph(graph_documents):\n",
    "    # Create network\n",
    "    net = Network(height=\"1200px\", width=\"100%\", directed=True, notebook=False, bgcolor=\"#222222\", font_color=\"white\")\n",
    "    nodes = graph_documents[0].nodes\n",
    "    relationships = graph_documents[0].relationships\n",
    "\n",
    "    # Build lookup for valid nodes\n",
    "    node_dict = {node.id: node for node in nodes}\n",
    "\n",
    "    # Filter out invalid edges and collect valid node IDs\n",
    "    valid_edges = []\n",
    "    valid_node_ids = set()\n",
    "    for rel in relationships:\n",
    "        if rel.source.id in node_dict and rel.target.id in node_dict:\n",
    "            valid_edges.append(rel)\n",
    "            valid_node_ids.update([rel.source.id, rel.target.id])\n",
    "    \n",
    "    # Track which nodes are part of any relationship\n",
    "    connected_node_ids = set()\n",
    "    for rel in relationships:\n",
    "        connected_node_ids.add(rel.source.id)\n",
    "        connected_node_ids.add(rel.target.id)\n",
    "    \n",
    "    # Add valid nodes\n",
    "    for node_id in valid_node_ids:\n",
    "        node = node_dict[node_id]\n",
    "        try:\n",
    "            net.add_node(node.id, label=node.id, title=node.type, group=node.type)\n",
    "        except:\n",
    "            continue\n",
    "\n",
    "    # Add valid edges\n",
    "    for rel in valid_edges:\n",
    "        try:\n",
    "            net.add_Edge(rel.source.id, rel.target.id, label=rel.type.lower())\n",
    "        except:\n",
    "            continue\n",
    "    \n",
    "    # Configure physics\n",
    "    net.set_options(\"\"\"\n",
    "        {\n",
    "            \"physics\": {\n",
    "                \"forceAtlas2Based\": {\n",
    "                    \"gravitiationalConstant\": -100,\n",
    "                    \"centralGravity\": 0.01,\n",
    "                    \"springLength\": 200,\n",
    "                    \"springConstant\": 0.08\n",
    "                },\n",
    "                \"minVelocity\": 0.5,\n",
    "                \"solver\": \"forceAtlas2Based\"\n",
    "            }\n",
    "        }\n",
    "        \"\"\")\n",
    "    \n",
    "    output_file = \"knowledge_graph.html\"\n",
    "    net.save_graph(output_file)\n",
    "    print(f\"Graph saved to {os.path.abspath(output_file)}\")\n",
    "\n",
    "    # Try to open in browser\n",
    "    try:\n",
    "        import webbrowser\n",
    "        webbrowser.open(f\"file://{os.path.abspath(output_file)}\")\n",
    "    except:\n",
    "        print(\"Could not open browser automatically\")\n",
    "         \n"
   ]
  },
  {
   "cell_type": "code",
   "execution_count": 19,
   "id": "cadfc269",
   "metadata": {},
   "outputs": [
    {
     "name": "stdout",
     "output_type": "stream",
     "text": [
      "Graph saved to c:\\Users\\vaish\\OneDrive\\Documents\\GitHub\\Knowledge-Graphs\\knowledge_graph.html\n"
     ]
    }
   ],
   "source": [
    "visualize_graph(graph_documents)"
   ]
  },
  {
   "cell_type": "markdown",
   "id": "db4584e1",
   "metadata": {},
   "source": [
    "# Extract specific types of nodes"
   ]
  },
  {
   "cell_type": "code",
   "execution_count": 20,
   "id": "a70b36e7",
   "metadata": {},
   "outputs": [],
   "source": [
    "allowed_nodes = [\"Person\", \"Organization\", \"Place\"]\n",
    "graph_transformer_nodes_defined = LLMGraphTransformer(llm=llm, allowed_nodes=allowed_nodes)\n",
    "graph_documents_nodes_defined = await graph_transformer_nodes_defined.aconvert_to_graph_documents(documents)"
   ]
  },
  {
   "cell_type": "code",
   "execution_count": 22,
   "id": "f2982001",
   "metadata": {},
   "outputs": [
    {
     "name": "stdout",
     "output_type": "stream",
     "text": [
      "Nodes: [Node(id='Lebron Raymone James Sr.', type='Person', properties={}), Node(id='Los Angeles Lakers', type='Organization', properties={}), Node(id='National Basketball Association', type='Organization', properties={}), Node(id='U.S. National Team', type='Organization', properties={}), Node(id='Akron, Ohio', type='Place', properties={}), Node(id='St. Vincent–St. Mary High School', type='Organization', properties={}), Node(id='Cleveland Cavaliers', type='Organization', properties={}), Node(id='Miami Heat', type='Organization', properties={})]\n",
      "Relationships: [Relationship(source=Node(id='Lebron Raymone James Sr.', type='Person', properties={}), target=Node(id='Los Angeles Lakers', type='Organization', properties={}), type='PLAYS_FOR', properties={}), Relationship(source=Node(id='Lebron Raymone James Sr.', type='Person', properties={}), target=Node(id='National Basketball Association', type='Organization', properties={}), type='PLAYS_IN', properties={}), Relationship(source=Node(id='Lebron Raymone James Sr.', type='Person', properties={}), target=Node(id='U.S. National Team', type='Organization', properties={}), type='MEMBER_OF', properties={}), Relationship(source=Node(id='Lebron Raymone James Sr.', type='Person', properties={}), target=Node(id='Akron, Ohio', type='Place', properties={}), type='BORN_IN', properties={}), Relationship(source=Node(id='Lebron Raymone James Sr.', type='Person', properties={}), target=Node(id='St. Vincent–St. Mary High School', type='Organization', properties={}), type='ATTENDED', properties={}), Relationship(source=Node(id='Lebron Raymone James Sr.', type='Person', properties={}), target=Node(id='Cleveland Cavaliers', type='Organization', properties={}), type='DRAFTED_BY', properties={}), Relationship(source=Node(id='Lebron Raymone James Sr.', type='Person', properties={}), target=Node(id='Miami Heat', type='Organization', properties={}), type='JOINED', properties={})]\n"
     ]
    }
   ],
   "source": [
    "print(f\"Nodes: {graph_documents_nodes_defined[0].nodes}\")\n",
    "print(f\"Relationships: {graph_documents_nodes_defined[0].relationships}\")"
   ]
  },
  {
   "cell_type": "markdown",
   "id": "084fb3ae",
   "metadata": {},
   "source": [
    "# Extract specific types of relationships"
   ]
  },
  {
   "cell_type": "code",
   "execution_count": 26,
   "id": "62a77bb2",
   "metadata": {},
   "outputs": [],
   "source": [
    "allowed_relationships = [\n",
    "    (\"Person\", \"CHAMPION\", \"Organization\"),\n",
    "    (\"Person\", \"MVP\", \"Organization\")\n",
    "]\n",
    "graph_transformer_rel_defined = LLMGraphTransformer(llm=llm, allowed_nodes=allowed_nodes, allowed_relationships=allowed_relationships)\n",
    "graph_documents_rel_defined = await graph_transformer_rel_defined.aconvert_to_graph_documents(documents)"
   ]
  },
  {
   "cell_type": "code",
   "execution_count": 28,
   "id": "65f2aaa0",
   "metadata": {},
   "outputs": [
    {
     "name": "stdout",
     "output_type": "stream",
     "text": [
      "Graph saved to c:\\Users\\vaish\\OneDrive\\Documents\\GitHub\\Knowledge-Graphs\\knowledge_graph.html\n"
     ]
    }
   ],
   "source": [
    "visualize_graph(graph_documents_rel_defined)"
   ]
  }
 ],
 "metadata": {
  "kernelspec": {
   "display_name": ".venv",
   "language": "python",
   "name": "python3"
  },
  "language_info": {
   "codemirror_mode": {
    "name": "ipython",
    "version": 3
   },
   "file_extension": ".py",
   "mimetype": "text/x-python",
   "name": "python",
   "nbconvert_exporter": "python",
   "pygments_lexer": "ipython3",
   "version": "3.13.5"
  }
 },
 "nbformat": 4,
 "nbformat_minor": 5
}
